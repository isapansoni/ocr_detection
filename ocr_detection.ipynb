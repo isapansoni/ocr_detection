{
 "cells": [
  {
   "cell_type": "code",
   "execution_count": 15,
   "metadata": {},
   "outputs": [],
   "source": [
    "import PIL\n",
    "from PIL import Image\n",
    "import pytesseract\n",
    "import cv2\n",
    "import matplotlib.pyplot as plt\n",
    "import pandas as pd"
   ]
  },
  {
   "cell_type": "code",
   "execution_count": 2,
   "metadata": {},
   "outputs": [],
   "source": [
    "image = cv2.imread('tony4.jpg')"
   ]
  },
  {
   "cell_type": "code",
   "execution_count": 7,
   "metadata": {},
   "outputs": [],
   "source": [
    "black = (0,0,0)\n",
    "white = (255,255,255)\n",
    "threshold = (160,160,160)\n",
    "\n",
    "# Open input image in grayscale mode and get its pixels.\n",
    "raw_img = Image.open(\"tony3.jpg\").convert(\"LA\")\n",
    "pixels = raw_img.getdata()\n",
    "\n",
    "newPixels = []\n",
    "\n",
    "# Compare each pixel \n",
    "for pixel in pixels:\n",
    "    if pixel < threshold:\n",
    "        newPixels.append(black)\n",
    "    else:\n",
    "        newPixels.append(white)\n",
    "\n",
    "# Create and save new image.\n",
    "processed_img = Image.new(\"RGB\",raw_img.size)\n",
    "processed_img.putdata(newPixels)"
   ]
  },
  {
   "cell_type": "code",
   "execution_count": 52,
   "metadata": {},
   "outputs": [],
   "source": [
    "text = pytesseract.image_to_string(processed_img,lang=\"eng\")"
   ]
  },
  {
   "cell_type": "code",
   "execution_count": 56,
   "metadata": {},
   "outputs": [],
   "source": [
    "\n",
    "text_clean = text_clean.replace('Please*','\\n')\n",
    "text_clean = text_clean.replace('important*','\\n')\n",
    "\n",
    "text_clean = text.replace('\\n\\n','\\n')"
   ]
  },
  {
   "cell_type": "code",
   "execution_count": 57,
   "metadata": {},
   "outputs": [
    {
     "name": "stdout",
     "output_type": "stream",
     "text": [
      "Please fill out the following fields. Important fields are marked yellow.\n",
      "Given Name: IRONMAN\n",
      "FamiyName: [Stark\n",
      "   \n",
      "      \n",
      "     \n",
      "Address 1: Malibu point House nr: 1 0880\n",
      "Address 2: Santa bay\n",
      "Postcode: City:| california\n",
      " \n",
      "Country: United states a\n",
      "Gender: Man [=]\n",
      "Height (cm): 150\n",
      "Driving License: oO\n",
      "| speak and understand {tick all that apply):\n",
      "(J Deutsch English (J Frangais (_] Esperanto ] Latin\n",
      "Favourite colour: Red [=]\n",
      " \n",
      "important: Save the completed PDF form (use menu File - Save).\n"
     ]
    }
   ],
   "source": [
    "print(text_clean)"
   ]
  },
  {
   "cell_type": "code",
   "execution_count": 78,
   "metadata": {},
   "outputs": [
    {
     "name": "stdout",
     "output_type": "stream",
     "text": [
      "Given Name: IRONMAN\n",
      "Address 1: Malibu point House nr: 1 0880\n",
      "Address 2: Santa bay\n",
      "Postcode: City:| california\n",
      "Country: United states a\n",
      "Gender: Man [=]\n",
      "Height (cm): 150\n",
      "Driving License: oO\n"
     ]
    }
   ],
   "source": [
    "import re\n",
    "\n",
    "keyfile = \"key.txt\"\n",
    "testfile = \"raw.txt\"\n",
    "\n",
    "keys = set(key.lower() for key in \n",
    "    re.findall(r'\\w+', open(keyfile , \"r\").readline()))\n",
    "\n",
    "with open(testfile) as f:\n",
    "    for line in f:\n",
    "        words = set(word.lower() for word in re.findall(r'\\w+', line))\n",
    "        if keys & words:\n",
    "            print(line, end='')"
   ]
  },
  {
   "cell_type": "code",
   "execution_count": null,
   "metadata": {},
   "outputs": [],
   "source": []
  },
  {
   "cell_type": "code",
   "execution_count": 59,
   "metadata": {},
   "outputs": [
    {
     "data": {
      "text/plain": [
       "str"
      ]
     },
     "execution_count": 59,
     "metadata": {},
     "output_type": "execute_result"
    }
   ],
   "source": [
    "type(text_clean)"
   ]
  },
  {
   "cell_type": "code",
   "execution_count": 11,
   "metadata": {},
   "outputs": [],
   "source": [
    "with open('raw.txt', 'w') as f:\n",
    "    f.write(text)"
   ]
  },
  {
   "cell_type": "code",
   "execution_count": 41,
   "metadata": {},
   "outputs": [],
   "source": [
    "with open('raw.txt', 'r') as f:\n",
    "    filtered = filter(lambda x: not re.match(r'^\\s*$', x), f)\n"
   ]
  },
  {
   "cell_type": "code",
   "execution_count": 42,
   "metadata": {},
   "outputs": [
    {
     "data": {
      "text/plain": [
       "<filter at 0x1325a3a20>"
      ]
     },
     "execution_count": 42,
     "metadata": {},
     "output_type": "execute_result"
    }
   ],
   "source": [
    "filtered"
   ]
  },
  {
   "cell_type": "code",
   "execution_count": null,
   "metadata": {},
   "outputs": [],
   "source": []
  },
  {
   "cell_type": "code",
   "execution_count": null,
   "metadata": {},
   "outputs": [],
   "source": []
  }
 ],
 "metadata": {
  "kernelspec": {
   "display_name": "Python 3",
   "language": "python",
   "name": "python3"
  },
  "language_info": {
   "codemirror_mode": {
    "name": "ipython",
    "version": 3
   },
   "file_extension": ".py",
   "mimetype": "text/x-python",
   "name": "python",
   "nbconvert_exporter": "python",
   "pygments_lexer": "ipython3",
   "version": "3.7.3"
  }
 },
 "nbformat": 4,
 "nbformat_minor": 2
}
